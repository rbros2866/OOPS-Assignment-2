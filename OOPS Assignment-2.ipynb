{
 "cells": [
  {
   "cell_type": "markdown",
   "id": "d91c7ca1",
   "metadata": {},
   "source": [
    "Q1. What is Abstraction in OOps? Explain with an example."
   ]
  },
  {
   "cell_type": "markdown",
   "id": "18f1e3dc",
   "metadata": {},
   "source": [
    "Abstraction in OOP focuses on representing essential features and behaviors of objects while hiding unnecessary details.\n",
    "\n",
    "It involves creating abstract classes or interfaces that define a common structure and behavior for a group of related objects.\n",
    "\n",
    "Abstraction provides a simplified view of an object's functionality, allowing users to interact without being concerned about internal implementation.\n",
    "\n",
    "It promotes modularity, encapsulation, and separation of concerns in the design of complex systems.\n",
    "\n",
    "Example: \n",
    "\n",
    "\"Vehicle\" is an abstract class with methods \"start()\" and \"stop()\", and concrete classes like \"Car\" and \"Bike\" inherit from it, providing their specific implementations of these methods.\n",
    "\n",
    "The abstraction of \"Vehicle\" allows treating different vehicles uniformly, simplifying code and promoting code organization and modularity."
   ]
  },
  {
   "cell_type": "code",
   "execution_count": 1,
   "id": "2629b762",
   "metadata": {},
   "outputs": [
    {
     "name": "stdout",
     "output_type": "stream",
     "text": [
      "Toyota Camry started.\n",
      "Toyota Camry stopped.\n",
      "Honda CBR started.\n",
      "Honda CBR stopped.\n"
     ]
    }
   ],
   "source": [
    "from abc import ABC, abstractmethod\n",
    "\n",
    "class Vehicle(ABC):\n",
    "    def __init__(self, brand, model):\n",
    "        self.brand = brand\n",
    "        self.model = model\n",
    "\n",
    "    @abstractmethod\n",
    "    def start(self):\n",
    "        pass\n",
    "\n",
    "    @abstractmethod\n",
    "    def stop(self):\n",
    "        pass\n",
    "\n",
    "class Car(Vehicle):\n",
    "    def start(self):\n",
    "        print(f\"{self.brand} {self.model} started.\")\n",
    "\n",
    "    def stop(self):\n",
    "        print(f\"{self.brand} {self.model} stopped.\")\n",
    "\n",
    "class Motorcycle(Vehicle):\n",
    "    def start(self):\n",
    "        print(f\"{self.brand} {self.model} started.\")\n",
    "\n",
    "    def stop(self):\n",
    "        print(f\"{self.brand} {self.model} stopped.\")\n",
    "\n",
    "# Creating objects of different vehicles\n",
    "car = Car(\"Toyota\", \"Camry\")\n",
    "motorcycle = Motorcycle(\"Honda\", \"CBR\")\n",
    "\n",
    "# Using abstraction to interact with vehicles\n",
    "car.start()  \n",
    "car.stop()  \n",
    "\n",
    "motorcycle.start()  \n",
    "motorcycle.stop()  \n"
   ]
  },
  {
   "cell_type": "markdown",
   "id": "050b2759",
   "metadata": {},
   "source": [
    "Q2. Differentiate between Abstraction and Encapsulation. Explain with an example."
   ]
  },
  {
   "cell_type": "markdown",
   "id": "0a7a5b1c",
   "metadata": {},
   "source": [
    "Abstraction:\n",
    "\n",
    "Focuses on representing essential features and behaviors while hiding unnecessary details.\n",
    "\n",
    "Simplifies complex systems by breaking them down into manageable units.\n",
    "\n",
    "Achieved through abstract classes or interfaces.\n",
    "\n",
    "Allows interaction with objects without knowing internal implementation details.\n",
    "\n",
    "Example: Shape abstract class with concrete subclasses like Rectangle and Circle."
   ]
  },
  {
   "cell_type": "code",
   "execution_count": 3,
   "id": "d2f2c1cd",
   "metadata": {},
   "outputs": [
    {
     "name": "stdout",
     "output_type": "stream",
     "text": [
      "Rectangle Area: 24\n",
      "Circle Area: 78.5\n"
     ]
    }
   ],
   "source": [
    "# Abstraction\n",
    "from abc import ABC, abstractmethod\n",
    "\n",
    "class Shape(ABC):\n",
    "    @abstractmethod\n",
    "    def calculate_area(self):\n",
    "        pass\n",
    "\n",
    "class Rectangle(Shape):\n",
    "    def __init__(self, length, width):\n",
    "        self.length = length\n",
    "        self.width = width\n",
    "\n",
    "    def calculate_area(self):\n",
    "        return self.length * self.width\n",
    "\n",
    "class Circle(Shape):\n",
    "    def __init__(self, radius):\n",
    "        self.radius = radius\n",
    "\n",
    "    def calculate_area(self):\n",
    "        return 3.14 * self.radius * self.radius\n",
    "\n",
    "# Abstraction example usage\n",
    "rectangle = Rectangle(4, 6)\n",
    "circle = Circle(5)\n",
    "\n",
    "print(\"Rectangle Area:\", rectangle.calculate_area()) \n",
    "print(\"Circle Area:\", circle.calculate_area())  \n",
    "\n",
    "\n"
   ]
  },
  {
   "cell_type": "markdown",
   "id": "6f6a5407",
   "metadata": {},
   "source": [
    "Encapsulation:\n",
    "\n",
    "Focuses on bundling data and related methods into a single unit (class).\n",
    "\n",
    "Ensures data and behavior are hidden from external access and accessed through defined interfaces.\n",
    "\n",
    "Promotes data protection, information hiding, and code organization.\n",
    "\n",
    "Internal workings of an object are hidden.\n",
    "\n",
    "Example: Person class with private variables (name, age) and public methods (get_name, get_age)."
   ]
  },
  {
   "cell_type": "code",
   "execution_count": 17,
   "id": "d6de1c15",
   "metadata": {},
   "outputs": [
    {
     "name": "stdout",
     "output_type": "stream",
     "text": [
      "Name: Rahul\n",
      "Age: 30\n"
     ]
    }
   ],
   "source": [
    "# Encapsulation\n",
    "class Person:\n",
    "    def __init__(self, name, age):\n",
    "        self._name = name\n",
    "        self._age = age\n",
    "\n",
    "    def get_name(self):\n",
    "        return self._name\n",
    "\n",
    "    def get_age(self):\n",
    "        return self._age\n",
    "    \n",
    "# Encapsulation example usage\n",
    "person = Person(\"Rahul\", 30)\n",
    "\n",
    "print(\"Name:\", person.get_name())\n",
    "print(\"Age:\", person.get_age())  "
   ]
  },
  {
   "cell_type": "markdown",
   "id": "9466f13b",
   "metadata": {},
   "source": [
    "Q3. What is abc module in python? Why is it used?"
   ]
  },
  {
   "cell_type": "markdown",
   "id": "4ecdb3ea",
   "metadata": {},
   "source": [
    "The abc module in Python stands for \"Abstract Base Classes\".\n",
    "\n",
    "It provides mechanisms for defining abstract base classes (ABCs).\n",
    "\n",
    "Abstract base classes cannot be instantiated on their own but serve as blueprints for creating concrete subclasses.\n",
    "The module includes the ABC class, which is inherited by a class to indicate it is an abstract base class.\n",
    "\n",
    "The abstractmethod decorator is used to mark methods within an abstract base class as abstract, enforcing implementation requirements in subclasses.\n",
    "\n",
    "The abc module promotes code design principles such as abstraction, inheritance, and polymorphism by defining common interfaces and enforcing implementation contracts."
   ]
  },
  {
   "cell_type": "markdown",
   "id": "fc380779",
   "metadata": {},
   "source": [
    "Q4. How can we achieve data abstraction?"
   ]
  },
  {
   "cell_type": "markdown",
   "id": "6df436d1",
   "metadata": {},
   "source": [
    "Define an abstract base class (ABC) using the abc module in Python.\n",
    "\n",
    "Declare abstract methods within the ABC using the abstractmethod decorator.\n",
    "\n",
    "Inherit from the ABC and implement the abstract methods in concrete subclasses.\n",
    "\n",
    "Access and interact with the objects through the common interface provided by the abstract base class, hiding the underlying implementation details."
   ]
  },
  {
   "cell_type": "code",
   "execution_count": 23,
   "id": "861e23be",
   "metadata": {},
   "outputs": [
    {
     "name": "stdout",
     "output_type": "stream",
     "text": [
      "24\n",
      "20\n",
      "78.5\n",
      "31.400000000000002\n"
     ]
    }
   ],
   "source": [
    "from abc import ABC, abstractmethod\n",
    "\n",
    "# Step 1: Define the abstract base class (ABC)\n",
    "\n",
    "class Shape(ABC):\n",
    "    @abstractmethod     # Step 2: Declare abstract methods within the ABC using the abstractmethod decorator\n",
    "    def calculate_area(self):\n",
    "        pass\n",
    "\n",
    "    @abstractmethod     # Step 2: Declare abstract methods within the ABC using the abstractmethod decorator\n",
    "    def calculate_perimeter(self):\n",
    "        pass\n",
    "\n",
    "\n",
    "\n",
    "# Step 3: Inherit from the ABC and implement the abstract methods in concrete subclasses\n",
    "\n",
    "class Rectangle(Shape):\n",
    "    def __init__(self, length, width):\n",
    "        self.length = length\n",
    "        self.width = width\n",
    "\n",
    "    def calculate_area(self):\n",
    "        return self.length * self.width\n",
    "\n",
    "    def calculate_perimeter(self):\n",
    "        return 2 * (self.length + self.width)\n",
    "\n",
    "class Circle(Shape):\n",
    "    def __init__(self, radius):\n",
    "        self.radius = radius\n",
    "\n",
    "    def calculate_area(self):\n",
    "        return 3.14 * self.radius * self.radius\n",
    "\n",
    "    def calculate_perimeter(self):\n",
    "        return 2 * 3.14 * self.radius\n",
    "\n",
    "# Step 4: Access and interact with the objects through the common interface provided by the abstract base class\n",
    "\n",
    "# Create objects of the concrete subclasses\n",
    "rectangle = Rectangle(4, 6)\n",
    "circle = Circle(5)\n",
    "\n",
    "# Accessing objects through the common interface\n",
    "print(rectangle.calculate_area()) \n",
    "print(rectangle.calculate_perimeter())  \n",
    "print(circle.calculate_area())  \n",
    "print(circle.calculate_perimeter()) \n",
    " \n"
   ]
  },
  {
   "cell_type": "markdown",
   "id": "d58d0e1d",
   "metadata": {},
   "source": [
    "Q5. Can we create an instance of an abstract class? Explain your answer."
   ]
  },
  {
   "cell_type": "markdown",
   "id": "32f38f70",
   "metadata": {},
   "source": [
    "No, we cannot create an instance of an abstract class in Python.\n",
    "\n",
    "An abstract class is designed to be a blueprint for other classes and cannot be instantiated directly.\n",
    "\n",
    "Abstract classes define a common interface and may contain abstract methods without an implementation.\n",
    "\n",
    "Concrete subclasses that inherit from the abstract class provide the implementation for the abstract methods.\n",
    "\n",
    "To use the functionality defined in an abstract class, we need to create an instance of a concrete subclass that implements the abstract methods.\n",
    "\n",
    "Creating an instance of a concrete subclass allows us to access the common interface defined by the abstract class and utilize the specific behavior implemented in the subclass."
   ]
  },
  {
   "cell_type": "code",
   "execution_count": 26,
   "id": "9ade9bba",
   "metadata": {},
   "outputs": [
    {
     "ename": "TypeError",
     "evalue": "Can't instantiate abstract class Animal with abstract method sound",
     "output_type": "error",
     "traceback": [
      "\u001b[1;31m---------------------------------------------------------------------------\u001b[0m",
      "\u001b[1;31mTypeError\u001b[0m                                 Traceback (most recent call last)",
      "Cell \u001b[1;32mIn[26], line 15\u001b[0m\n\u001b[0;32m     12\u001b[0m         \u001b[38;5;28;01mreturn\u001b[39;00m \u001b[38;5;124m\"\u001b[39m\u001b[38;5;124mWoof!\u001b[39m\u001b[38;5;124m\"\u001b[39m\n\u001b[0;32m     14\u001b[0m \u001b[38;5;66;03m# Trying to create an instance of the abstract class\u001b[39;00m\n\u001b[1;32m---> 15\u001b[0m animal \u001b[38;5;241m=\u001b[39m \u001b[43mAnimal\u001b[49m\u001b[43m(\u001b[49m\u001b[43m)\u001b[49m \n\u001b[0;32m     16\u001b[0m \u001b[38;5;28mprint\u001b[39m(animal\u001b[38;5;241m.\u001b[39msound())\n\u001b[0;32m     17\u001b[0m \u001b[38;5;66;03m# Creating an instance of the concrete subclass\u001b[39;00m\n",
      "\u001b[1;31mTypeError\u001b[0m: Can't instantiate abstract class Animal with abstract method sound"
     ]
    }
   ],
   "source": [
    "from abc import ABC, abstractmethod\n",
    "\n",
    "# Abstract class\n",
    "class Animal(ABC):\n",
    "    @abstractmethod\n",
    "    def sound(self):\n",
    "        pass\n",
    "\n",
    "# Concrete subclass\n",
    "class Dog(Animal):\n",
    "    def sound(self):\n",
    "        return \"Woof!\"\n",
    "\n",
    "# Trying to create an instance of the abstract class\n",
    "animal = Animal() \n",
    "print(animal.sound())\n",
    "# Creating an instance of the concrete subclass\n",
    "dog = Dog()\n",
    "print(dog.sound()) \n"
   ]
  },
  {
   "cell_type": "code",
   "execution_count": null,
   "id": "bf3cbbc2",
   "metadata": {},
   "outputs": [],
   "source": []
  }
 ],
 "metadata": {
  "kernelspec": {
   "display_name": "Python 3 (ipykernel)",
   "language": "python",
   "name": "python3"
  },
  "language_info": {
   "codemirror_mode": {
    "name": "ipython",
    "version": 3
   },
   "file_extension": ".py",
   "mimetype": "text/x-python",
   "name": "python",
   "nbconvert_exporter": "python",
   "pygments_lexer": "ipython3",
   "version": "3.11.1"
  }
 },
 "nbformat": 4,
 "nbformat_minor": 5
}
